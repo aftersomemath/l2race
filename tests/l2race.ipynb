{
 "cells": [
  {
   "cell_type": "code",
   "execution_count": 24,
   "metadata": {
    "collapsed": true
   },
   "outputs": [
    {
     "name": "stdout",
     "output_type": "stream",
     "text": [
      "distance from [0 1] to all segments are [1. 1. 2.]\n",
      "min distance=1.00\n"
     ]
    },
    {
     "data": {
      "text/plain": "<Figure size 432x288 with 1 Axes>",
      "image/png": "[encoded data removed]"
     },
     "metadata": {
      "needs_background": "light"
     },
     "output_type": "display_data"
    }
   ],
   "source": [
    "import numpy as np\n",
    "from src.track import lineseg_dists\n",
    "import matplotlib.pyplot as plt\n",
    "\n",
    "p = np.array([0, 1])\n",
    "a = np.array([[ 1,  1],\n",
    "              [-1,  0],\n",
    "              [-1, -1]])\n",
    "b = np.array([[ 2,  2],\n",
    "              [ 1,  0],\n",
    "              [ 1, -1]])\n",
    "plt.clf()\n",
    "plt.plot(p[0],p[1],'x')\n",
    "n=a.shape[0]\n",
    "for i in range(n):\n",
    "    plt.plot([a[i,0],b[i,0]],[a[i,1],b[i,1]],'-')\n",
    "plt.axis('square')\n",
    "d=lineseg_dists(p, a, b)\n",
    "print('distance from {} to all segments are {}'.format(p,d))\n",
    "mind=np.min(d)\n",
    "print('min distance={:.2f}'.format(mind))"
   ]
  },
  {
   "cell_type": "code",
   "execution_count": 13,
   "outputs": [
    {
     "name": "stdout",
     "output_type": "stream",
     "text": [
      "[1.41421356 1.         3.        ]\n"
     ]
    }
   ],
   "source": [
    "p = np.array([[0, 0],\n",
    "              [1, 1],\n",
    "              [0, 2]])\n",
    "\n",
    "print(lineseg_dists(p, a, b))"
   ],
   "metadata": {
    "collapsed": false,
    "pycharm": {
     "name": "#%%\n"
    }
   }
  }
 ],
 "metadata": {
  "kernelspec": {
   "display_name": "Python 3",
   "language": "python",
   "name": "python3"
  },
  "language_info": {
   "codemirror_mode": {
    "name": "ipython",
    "version": 2
   },
   "file_extension": ".py",
   "mimetype": "text/x-python",
   "name": "python",
   "nbconvert_exporter": "python",
   "pygments_lexer": "ipython2",
   "version": "2.7.6"
  }
 },
 "nbformat": 4,
 "nbformat_minor": 0
}